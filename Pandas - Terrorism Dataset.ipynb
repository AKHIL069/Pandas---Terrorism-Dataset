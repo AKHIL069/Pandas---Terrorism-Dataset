{
 "cells": [
  {
   "cell_type": "markdown",
   "id": "e16468f8",
   "metadata": {},
   "source": [
    "It is an open-source database including information on terrorist attacks around the world from 1970 through 2017. This dataset includes systematic data on domestic as well as international terrorist incidents that have occurred during this time period"
   ]
  },
  {
   "cell_type": "markdown",
   "id": "2c4dada9",
   "metadata": {},
   "source": [
    "# Question :"
   ]
  },
  {
   "cell_type": "markdown",
   "id": "f9aae515",
   "metadata": {},
   "source": [
    "The Most Dangerous city in Jammu and Kashmir and the terrorist group which is most active in that city?\n",
    "Print count of number of attacks in that city as integer value.\n",
    "Note:Ignoring the Unknown Terrorist Group.Here Dangerous related with the number of terrorist attacks."
   ]
  },
  {
   "cell_type": "code",
   "execution_count": 1,
   "id": "c4440222",
   "metadata": {},
   "outputs": [
    {
     "name": "stdout",
     "output_type": "stream",
     "text": [
      "Srinagar 657 Muslim Separatists\n"
     ]
    }
   ],
   "source": [
    "import pandas as pd \n",
    "import numpy as np \n",
    "\n",
    "df = pd.read_csv(\"C:/terrorismData.csv\", encoding = \"utf8\")\n",
    "df_jk = df[df.State==\"Jammu and Kashmir\"]\n",
    "city_list=df_jk['City'].value_counts()\n",
    "city=city_list.index[0]\n",
    "attack=city_list.values[0]\n",
    "df_terror=df_jk[df_jk['City']==city]\n",
    "group=df_terror['Group'].value_counts().index[1]\n",
    "print(city,attack,group)"
   ]
  },
  {
   "cell_type": "markdown",
   "id": "37271eb3",
   "metadata": {},
   "source": [
    "# Question :"
   ]
  },
  {
   "cell_type": "markdown",
   "id": "c619d3fd",
   "metadata": {},
   "source": [
    "There was formation of new government in India on 26 May 2014. So current government's span is from 26th May 2014 to current. Find out two things from this period-\n",
    "1. Total number of attacks done in this period in India. Find this count as integer.\n",
    "2. Which Terrorist group was most active in this period in India. Most active means, group which has done maximum number of attacks. \n",
    "3.Ignore the Unknown group. "
   ]
  },
  {
   "cell_type": "code",
   "execution_count": 2,
   "id": "08c28b74",
   "metadata": {},
   "outputs": [
    {
     "name": "stdout",
     "output_type": "stream",
     "text": [
      "3336   Maoists\n"
     ]
    }
   ],
   "source": [
    "import pandas as pd\n",
    "\n",
    "x=pd.read_csv(\"C:/terrorismData.csv\", encoding = \"utf8\")\n",
    "df=x.copy()\n",
    "\n",
    "a=df[(df.Year>2014) & (df.Country==\"India\")]\n",
    "        #apply filters #for else than 2014\n",
    "count=a[\"Year\"].value_counts(dropna=False).sum()\n",
    "\n",
    "\n",
    "n=df[(df.Year==2014) & (df.Month>5) & (df.Country==\"India\")]\n",
    "count1=n[\"Year\"].value_counts(dropna=False).sum()    #for may\n",
    "\n",
    "g=df[(df.Year==2014) & (df.Month==5) & (df.Country==\"India\") & (df.Day>25)]\n",
    "count2=g[\"Year\"].value_counts(dropna=False).sum()\n",
    "\n",
    "d={}\n",
    "a=a.Group\n",
    "for i in a:\n",
    "    if i in d:\n",
    "        d[i]+=1\n",
    "    else:\n",
    "        d[i]=1\n",
    "\n",
    "max_group=\"\"\n",
    "max_val=0\n",
    "keys=d.keys()\n",
    "for i in keys:\n",
    "    if i!=\"Unknown\":\n",
    "        if max_val<d[i]:\n",
    "            max_group=i\n",
    "            max_val=d[i]\n",
    "            \n",
    "\n",
    "count=count+count1+count2\n",
    "print(count,\" \",max_group)"
   ]
  },
  {
   "cell_type": "markdown",
   "id": "e40e6269",
   "metadata": {},
   "source": [
    "# Question :"
   ]
  },
  {
   "cell_type": "markdown",
   "id": "e5d800a0",
   "metadata": {},
   "source": [
    "Find the frequency of the Casualty in Red Corridor states and in Jammu and Kashmir ?Here Frequency is (Total Casualty/Total Number of a year)\n",
    "Print frequency as integer value.\n",
    "Note:Red Corridor state includes Jharkhand, Odisha, Andhra Pradesh, and Chhattisgarh. Here Casualty=Killed +Wounded.Don't fill the nan value present in Killed and Wounded feature."
   ]
  },
  {
   "cell_type": "code",
   "execution_count": 3,
   "id": "b876a6df",
   "metadata": {},
   "outputs": [
    {
     "name": "stdout",
     "output_type": "stream",
     "text": [
      "115 261\n"
     ]
    }
   ],
   "source": [
    "import pandas as pd \n",
    "\n",
    "df = pd.read_csv(\"C:/terrorismData.csv\", encoding = \"utf8\")\n",
    "df_Red=df[(df.State==\"Jharkhand\") | (df.State==\"Odisha\") | (df.State==\"Andhra Pradesh\") | (df.State==\"Chhattisgarh\")]\n",
    "df_jk=df[df.State==\"Jammu and Kashmir\"]\n",
    "year=df.Year\n",
    "yr=len(set(year))\n",
    "\n",
    "Red_casualty=df_Red.Killed+df_Red.Wounded \n",
    "jk_casualty=df_jk.Killed+df_jk.Wounded\n",
    "\n",
    "\n",
    "Frequency1=(Red_casualty.sum())/yr\n",
    "\n",
    "Frequency2=(jk_casualty.sum())/yr\n",
    "\n",
    "print(int(Frequency1),int(Frequency2))"
   ]
  },
  {
   "cell_type": "markdown",
   "id": "ca3edc83",
   "metadata": {},
   "source": [
    "# Question :"
   ]
  },
  {
   "cell_type": "markdown",
   "id": "793cb804",
   "metadata": {},
   "source": [
    "Most Deadliest attack in a history of HumanKind?\n",
    "Print count of Killed people as integer value.\n",
    "Note: Here Deadliest attack means, in which the most number of people killed."
   ]
  },
  {
   "cell_type": "code",
   "execution_count": 4,
   "id": "d1f0ae0b",
   "metadata": {},
   "outputs": [
    {
     "name": "stdout",
     "output_type": "stream",
     "text": [
      "1570 Iraq Islamic State of Iraq and the Levant (ISIL)\n"
     ]
    }
   ],
   "source": [
    "import pandas as pd \n",
    "\n",
    "df = pd.read_csv(\"C:/terrorismData.csv\", encoding = \"utf8\")\n",
    "a=df['Killed'].max()\n",
    "killed_list=df[df.Killed==a]\n",
    "c=killed_list.Country\n",
    "g=killed_list.Group\n",
    "print(int(a),c.values[0],g.values[0])\n"
   ]
  },
  {
   "cell_type": "markdown",
   "id": "61291a8a",
   "metadata": {},
   "source": [
    "# Question :"
   ]
  },
  {
   "cell_type": "markdown",
   "id": "b69d1613",
   "metadata": {},
   "source": [
    "Find out the Country with Highest Number of Terror Attack and in which year the most number of terrorist attack happened in that country ?\n",
    "Print count of terror attacks as integer value."
   ]
  },
  {
   "cell_type": "code",
   "execution_count": 10,
   "id": "c4304129",
   "metadata": {},
   "outputs": [
    {
     "name": "stdout",
     "output_type": "stream",
     "text": [
      "Iraq 24636 2014\n"
     ]
    }
   ],
   "source": [
    "import pandas as pd\n",
    "df = pd.read_csv(\"C:/terrorismData.csv\", encoding = \"utf8\")\n",
    "country_list = df[\"Country\"].value_counts()\n",
    "country = country_list.index[0]\n",
    "attack = country_list.values[0]\n",
    "df_terrorism = df[df[\"Country\"] == country]\n",
    "year = df[\"Year\"].value_counts().index[0]\n",
    "print(country,attack,year)"
   ]
  }
 ],
 "metadata": {
  "kernelspec": {
   "display_name": "Python 3",
   "language": "python",
   "name": "python3"
  },
  "language_info": {
   "codemirror_mode": {
    "name": "ipython",
    "version": 3
   },
   "file_extension": ".py",
   "mimetype": "text/x-python",
   "name": "python",
   "nbconvert_exporter": "python",
   "pygments_lexer": "ipython3",
   "version": "3.8.8"
  }
 },
 "nbformat": 4,
 "nbformat_minor": 5
}
